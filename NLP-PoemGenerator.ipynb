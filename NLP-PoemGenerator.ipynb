{
  "cells": [
    {
      "cell_type": "markdown",
      "metadata": {
        "id": "view-in-github",
        "colab_type": "text"
      },
      "source": [
        "<a href=\"https://colab.research.google.com/github/abrahamsteep90/NLP-PoemGenerator/blob/main/NLP-PoemGenerator.ipynb\" target=\"_parent\"><img src=\"https://colab.research.google.com/assets/colab-badge.svg\" alt=\"Open In Colab\"/></a>"
      ]
    },
    {
      "cell_type": "code",
      "source": [
        "# Install this package to use Colab's GPU for training\n",
        "!apt install --allow-change-held-packages libcudnn8=8.4.1.50-1+cuda11.6"
      ],
      "metadata": {
        "colab": {
          "base_uri": "https://localhost:8080/"
        },
        "id": "qnb_KX49QkSz",
        "outputId": "b7065d7e-dd48-45b5-cb56-b84ba9da094c"
      },
      "execution_count": 1,
      "outputs": [
        {
          "output_type": "stream",
          "name": "stdout",
          "text": [
            "Reading package lists... Done\n",
            "Building dependency tree       \n",
            "Reading state information... Done\n",
            "The following package was automatically installed and is no longer required:\n",
            "  libnvidia-common-460\n",
            "Use 'apt autoremove' to remove it.\n",
            "The following packages will be REMOVED:\n",
            "  libcudnn8-dev\n",
            "The following held packages will be changed:\n",
            "  libcudnn8\n",
            "The following packages will be upgraded:\n",
            "  libcudnn8\n",
            "1 upgraded, 0 newly installed, 1 to remove and 18 not upgraded.\n",
            "Need to get 420 MB of archives.\n",
            "After this operation, 3,369 MB disk space will be freed.\n",
            "Get:1 https://developer.download.nvidia.com/compute/cuda/repos/ubuntu1804/x86_64  libcudnn8 8.4.1.50-1+cuda11.6 [420 MB]\n",
            "Fetched 420 MB in 13s (33.4 MB/s)\n",
            "(Reading database ... 155569 files and directories currently installed.)\n",
            "Removing libcudnn8-dev (8.0.5.39-1+cuda11.1) ...\n",
            "(Reading database ... 155547 files and directories currently installed.)\n",
            "Preparing to unpack .../libcudnn8_8.4.1.50-1+cuda11.6_amd64.deb ...\n",
            "Unpacking libcudnn8 (8.4.1.50-1+cuda11.6) over (8.0.5.39-1+cuda11.1) ...\n",
            "Setting up libcudnn8 (8.4.1.50-1+cuda11.6) ...\n"
          ]
        }
      ]
    },
    {
      "cell_type": "code",
      "execution_count": 9,
      "metadata": {
        "id": "BOwsuGQQY9OL"
      },
      "outputs": [],
      "source": [
        "import gdown\n",
        "import numpy as np \n",
        "import matplotlib.pyplot as plt\n",
        "from tensorflow.keras.models import Sequential\n",
        "from tensorflow.keras.utils import to_categorical \n",
        "from tensorflow.keras.utils import get_file\n",
        "from tensorflow.keras.preprocessing.text import Tokenizer\n",
        "from tensorflow.keras.preprocessing.sequence import pad_sequences\n",
        "from tensorflow.keras.layers import Embedding, LSTM, Dense, Bidirectional\n",
        "from tensorflow.keras.optimizers import Adam"
      ]
    },
    {
      "cell_type": "code",
      "source": [
        "#FG_Poems.txt\n",
        "url = \"https://drive.google.com/uc?export=download&id=11Gmcm7PS8cJlz84qkPwazfFvUYLAv6h3\"\n",
        "output = \"FG_Poems.txt\"\n",
        "gdown.download(url=url, output=output, quiet=False, fuzzy=True)"
      ],
      "metadata": {
        "colab": {
          "base_uri": "https://localhost:8080/",
          "height": 105
        },
        "id": "zrPcEmK8QlY6",
        "outputId": "a93d0adb-c37f-4cc5-bac6-522134ea9a88"
      },
      "execution_count": 30,
      "outputs": [
        {
          "output_type": "stream",
          "name": "stderr",
          "text": [
            "Downloading...\n",
            "From: https://drive.google.com/uc?id=11Gmcm7PS8cJlz84qkPwazfFvUYLAv6h3\n",
            "To: /content/FG_Poems.txt\n",
            "100%|██████████| 55.5k/55.5k [00:00<00:00, 44.5MB/s]\n"
          ]
        },
        {
          "output_type": "execute_result",
          "data": {
            "text/plain": [
              "'FG_Poems.txt'"
            ],
            "application/vnd.google.colaboratory.intrinsic+json": {
              "type": "string"
            }
          },
          "metadata": {},
          "execution_count": 30
        }
      ]
    },
    {
      "cell_type": "code",
      "source": [
        "# Define path for file with sonnets\n",
        "FG_FILE = './FG_Poems.txt'\n",
        "\n",
        "# Read the data\n",
        "with open('./FG_Poems.txt') as f:\n",
        "    data = f.read()\n",
        "\n",
        "# Convert to lower case and save as a list\n",
        "corpus = data.lower().split(\"\\n\")\n",
        "\n",
        "print(f\"There are {len(corpus)} lines of Gulen Poems\\n\")\n",
        "print(f\"The first 5 lines look like this:\\n\")\n",
        "for i in range(5):\n",
        "  print(corpus[i])"
      ],
      "metadata": {
        "colab": {
          "base_uri": "https://localhost:8080/"
        },
        "id": "FCbhuWQrQlcG",
        "outputId": "b9bf880c-7bc4-49d8-fa67-e18cfb691314"
      },
      "execution_count": 31,
      "outputs": [
        {
          "output_type": "stream",
          "name": "stdout",
          "text": [
            "There are 1380 lines of Gulen Poems\n",
            "\n",
            "The first 5 lines look like this:\n",
            "\n",
            "şafak çoktan söktü, ufukta ışık cümbüşü,\n",
            "zulmetler hırıltıda, soluk soluğa nûrlar.\n",
            "çözülüyor bir bir ufkumdaki sis ve duman,\n",
            "her yanda zümrüt saçlarıyla o yeni bahar...\n",
            "yollarda bir nesil var, sanki fetih ordusu,\n"
          ]
        }
      ]
    },
    {
      "cell_type": "code",
      "source": [
        "tokenizer = Tokenizer()\n",
        "tokenizer.fit_on_texts(corpus)\n",
        "total_words = len(tokenizer.word_index) + 1"
      ],
      "metadata": {
        "id": "WP7A51vVMb0T"
      },
      "execution_count": 32,
      "outputs": []
    },
    {
      "cell_type": "code",
      "source": [
        "# n_gram_seqs\n",
        "def n_gram_seqs(corpus, tokenizer):\n",
        "    input_sequences = []\n",
        "    for line in corpus:\n",
        "      token_list = tokenizer.texts_to_sequences([line])[0]\n",
        "      for i in range(1, len(token_list)):\n",
        "        n_gram_sequence = token_list[:i+1]\n",
        "        input_sequences.append(n_gram_sequence)\n",
        "    return input_sequences"
      ],
      "metadata": {
        "id": "uw8hLNnufm6W"
      },
      "execution_count": 33,
      "outputs": []
    },
    {
      "cell_type": "code",
      "source": [
        "# Testing with one example\n",
        "first_example_sequence = n_gram_seqs([corpus[0]], tokenizer)\n",
        "\n",
        "print(\"n_gram sequences for first example look like this:\\n\")\n",
        "first_example_sequence"
      ],
      "metadata": {
        "colab": {
          "base_uri": "https://localhost:8080/"
        },
        "id": "438e-y3hft_r",
        "outputId": "b93e929b-7d07-4bf7-ded0-ebb4caa62ba3"
      },
      "execution_count": 34,
      "outputs": [
        {
          "output_type": "stream",
          "name": "stdout",
          "text": [
            "n_gram sequences for first example look like this:\n",
            "\n"
          ]
        },
        {
          "output_type": "execute_result",
          "data": {
            "text/plain": [
              "[[94, 202],\n",
              " [94, 202, 1111],\n",
              " [94, 202, 1111, 61],\n",
              " [94, 202, 1111, 61, 62],\n",
              " [94, 202, 1111, 61, 62, 1112]]"
            ]
          },
          "metadata": {},
          "execution_count": 34
        }
      ]
    },
    {
      "cell_type": "code",
      "source": [
        "# Testing with a bigger corpus\n",
        "next_3_examples_sequence = n_gram_seqs(corpus[1:4], tokenizer)\n",
        "\n",
        "print(\"n_gram sequences for next 3 examples look like this:\\n\")\n",
        "next_3_examples_sequence"
      ],
      "metadata": {
        "colab": {
          "base_uri": "https://localhost:8080/"
        },
        "id": "4LTqgsvmf7iE",
        "outputId": "5003a5c2-f9df-488a-c935-db6b35c6c439"
      },
      "execution_count": 35,
      "outputs": [
        {
          "output_type": "stream",
          "name": "stdout",
          "text": [
            "n_gram sequences for next 3 examples look like this:\n",
            "\n"
          ]
        },
        {
          "output_type": "execute_result",
          "data": {
            "text/plain": [
              "[[326, 1113],\n",
              " [326, 1113, 327],\n",
              " [326, 1113, 327, 540],\n",
              " [326, 1113, 327, 540, 95],\n",
              " [541, 1],\n",
              " [541, 1, 1],\n",
              " [541, 1, 1, 1114],\n",
              " [541, 1, 1, 1114, 203],\n",
              " [541, 1, 1, 1114, 203, 3],\n",
              " [541, 1, 1, 1114, 203, 3, 204],\n",
              " [2, 31],\n",
              " [2, 31, 155],\n",
              " [2, 31, 155, 1115],\n",
              " [2, 31, 155, 1115, 5],\n",
              " [2, 31, 155, 1115, 5, 156],\n",
              " [2, 31, 155, 1115, 5, 156, 13]]"
            ]
          },
          "metadata": {},
          "execution_count": 35
        }
      ]
    },
    {
      "cell_type": "code",
      "source": [
        "# Apply the n_gram_seqs transformation to the whole corpus\n",
        "input_sequences = n_gram_seqs(corpus, tokenizer)\n",
        "\n",
        "# Save max length \n",
        "max_sequence_len = max([len(x) for x in input_sequences])\n",
        "\n",
        "print(f\"n_grams of input_sequences have length: {len(input_sequences)}\")\n",
        "print(f\"maximum length of sequences is: {max_sequence_len}\")"
      ],
      "metadata": {
        "colab": {
          "base_uri": "https://localhost:8080/"
        },
        "id": "KaR6R_Ngf7mh",
        "outputId": "e4c2a45e-e086-47fe-86f5-1e7a6714996e"
      },
      "execution_count": 36,
      "outputs": [
        {
          "output_type": "stream",
          "name": "stdout",
          "text": [
            "n_grams of input_sequences have length: 5715\n",
            "maximum length of sequences is: 9\n"
          ]
        }
      ]
    },
    {
      "cell_type": "code",
      "source": [
        "#pad_seqs\n",
        "def pad_seqs(input_sequences, maxlen):\n",
        "    padded_sequences = np.array(pad_sequences(input_sequences, maxlen = maxlen, padding ='pre'))\n",
        "    return padded_sequences\n"
      ],
      "metadata": {
        "id": "6nllqrbnf7qo"
      },
      "execution_count": 37,
      "outputs": []
    },
    {
      "cell_type": "code",
      "source": [
        "# Testing with the n_grams_seq of the first example\n",
        "first_padded_seq = pad_seqs(first_example_sequence, len(first_example_sequence))\n",
        "first_padded_seq"
      ],
      "metadata": {
        "colab": {
          "base_uri": "https://localhost:8080/"
        },
        "id": "jpR1lpoWkswB",
        "outputId": "a67d118b-afc1-470e-cfc0-d5880eb053e8"
      },
      "execution_count": 38,
      "outputs": [
        {
          "output_type": "execute_result",
          "data": {
            "text/plain": [
              "array([[   0,    0,    0,   94,  202],\n",
              "       [   0,    0,   94,  202, 1111],\n",
              "       [   0,   94,  202, 1111,   61],\n",
              "       [  94,  202, 1111,   61,   62],\n",
              "       [ 202, 1111,   61,   62, 1112]], dtype=int32)"
            ]
          },
          "metadata": {},
          "execution_count": 38
        }
      ]
    },
    {
      "cell_type": "code",
      "source": [
        "# Testing with the n_grams_seq of the next 3 examples\n",
        "next_3_padded_seq = pad_seqs(next_3_examples_sequence, max([len(s) for s in next_3_examples_sequence]))\n",
        "next_3_padded_seq"
      ],
      "metadata": {
        "colab": {
          "base_uri": "https://localhost:8080/"
        },
        "id": "q1UpMa2ukzX2",
        "outputId": "32329dba-d3ec-498e-9637-1a14989a444d"
      },
      "execution_count": 39,
      "outputs": [
        {
          "output_type": "execute_result",
          "data": {
            "text/plain": [
              "array([[   0,    0,    0,    0,    0,  326, 1113],\n",
              "       [   0,    0,    0,    0,  326, 1113,  327],\n",
              "       [   0,    0,    0,  326, 1113,  327,  540],\n",
              "       [   0,    0,  326, 1113,  327,  540,   95],\n",
              "       [   0,    0,    0,    0,    0,  541,    1],\n",
              "       [   0,    0,    0,    0,  541,    1,    1],\n",
              "       [   0,    0,    0,  541,    1,    1, 1114],\n",
              "       [   0,    0,  541,    1,    1, 1114,  203],\n",
              "       [   0,  541,    1,    1, 1114,  203,    3],\n",
              "       [ 541,    1,    1, 1114,  203,    3,  204],\n",
              "       [   0,    0,    0,    0,    0,    2,   31],\n",
              "       [   0,    0,    0,    0,    2,   31,  155],\n",
              "       [   0,    0,    0,    2,   31,  155, 1115],\n",
              "       [   0,    0,    2,   31,  155, 1115,    5],\n",
              "       [   0,    2,   31,  155, 1115,    5,  156],\n",
              "       [   2,   31,  155, 1115,    5,  156,   13]], dtype=int32)"
            ]
          },
          "metadata": {},
          "execution_count": 39
        }
      ]
    },
    {
      "cell_type": "code",
      "source": [
        "# Pad the whole corpus\n",
        "input_sequences = pad_seqs(input_sequences, max_sequence_len)\n",
        "\n",
        "print(f\"padded corpus has shape: {input_sequences.shape}\")"
      ],
      "metadata": {
        "colab": {
          "base_uri": "https://localhost:8080/"
        },
        "id": "U-86fbzLkzbS",
        "outputId": "182ecaf7-b917-45ad-eb6e-924dde152de9"
      },
      "execution_count": 40,
      "outputs": [
        {
          "output_type": "stream",
          "name": "stdout",
          "text": [
            "padded corpus has shape: (5715, 9)\n"
          ]
        }
      ]
    },
    {
      "cell_type": "code",
      "source": [
        "#features_and_labels\n",
        "def features_and_labels(input_sequences, total_words):\n",
        "    features = input_sequences[:,:-1]\n",
        "    labels = input_sequences[:,-1]\n",
        "    one_hot_labels = to_categorical(labels, num_classes = total_words)\n",
        "    return features, one_hot_labels"
      ],
      "metadata": {
        "id": "vWvnfriFkzeD"
      },
      "execution_count": 41,
      "outputs": []
    },
    {
      "cell_type": "code",
      "source": [
        "# Testing with the padded n_grams_seq of the first example\n",
        "first_features, first_labels = features_and_labels(first_padded_seq, total_words)\n",
        "\n",
        "print(f\"labels have shape: {first_labels.shape}\")\n",
        "print(\"\\nfeatures look like this:\\n\")\n",
        "first_features"
      ],
      "metadata": {
        "colab": {
          "base_uri": "https://localhost:8080/"
        },
        "id": "9tlOPidEkzhk",
        "outputId": "ac3305ed-c2e0-489b-ada2-76114e4e5d98"
      },
      "execution_count": 42,
      "outputs": [
        {
          "output_type": "stream",
          "name": "stdout",
          "text": [
            "labels have shape: (5, 3442)\n",
            "\n",
            "features look like this:\n",
            "\n"
          ]
        },
        {
          "output_type": "execute_result",
          "data": {
            "text/plain": [
              "array([[   0,    0,    0,   94],\n",
              "       [   0,    0,   94,  202],\n",
              "       [   0,   94,  202, 1111],\n",
              "       [  94,  202, 1111,   61],\n",
              "       [ 202, 1111,   61,   62]], dtype=int32)"
            ]
          },
          "metadata": {},
          "execution_count": 42
        }
      ]
    },
    {
      "cell_type": "code",
      "source": [
        "# Split the whole corpus\n",
        "features, labels = features_and_labels(input_sequences, total_words)\n",
        "\n",
        "print(f\"features have shape: {features.shape}\")\n",
        "print(f\"labels have shape: {labels.shape}\")"
      ],
      "metadata": {
        "colab": {
          "base_uri": "https://localhost:8080/"
        },
        "id": "c6vbtAKJkzkw",
        "outputId": "b1d7658c-0cae-47b4-b8c4-137e598363d8"
      },
      "execution_count": 43,
      "outputs": [
        {
          "output_type": "stream",
          "name": "stdout",
          "text": [
            "features have shape: (5715, 8)\n",
            "labels have shape: (5715, 3442)\n"
          ]
        }
      ]
    },
    {
      "cell_type": "code",
      "source": [
        "#create_model\n",
        "def create_model(total_words, max_sequence_len):\n",
        "    model = Sequential([\n",
        "          Embedding(total_words, 100, input_length=max_sequence_len-1),\n",
        "          Bidirectional(LSTM(300)),\n",
        "          Dense(total_words, activation='softmax')\n",
        "          ])\n",
        "    \n",
        "    # Compile the model\n",
        "    model.compile(\n",
        "    loss='categorical_crossentropy', \n",
        "    optimizer=Adam(learning_rate=0.001), \n",
        "    metrics=['accuracy']\n",
        "    )\n",
        "\n",
        "    return model"
      ],
      "metadata": {
        "id": "xFn5Q1BHkzoC"
      },
      "execution_count": 53,
      "outputs": []
    },
    {
      "cell_type": "code",
      "source": [
        "# Get the untrained model\n",
        "model = create_model(total_words, max_sequence_len)\n",
        "\n",
        "# Train the model\n",
        "history = model.fit(features, labels, epochs=50, verbose=1)"
      ],
      "metadata": {
        "colab": {
          "base_uri": "https://localhost:8080/"
        },
        "id": "R1mB-yOYlgB2",
        "outputId": "1764a61b-25aa-4df1-f1e3-48a3d3f40108"
      },
      "execution_count": 54,
      "outputs": [
        {
          "output_type": "stream",
          "name": "stdout",
          "text": [
            "Epoch 1/50\n",
            "179/179 [==============================] - 21s 95ms/step - loss: 7.9927 - accuracy: 0.0355\n",
            "Epoch 2/50\n",
            "179/179 [==============================] - 17s 95ms/step - loss: 7.4822 - accuracy: 0.0362\n",
            "Epoch 3/50\n",
            "179/179 [==============================] - 18s 100ms/step - loss: 7.1899 - accuracy: 0.0373\n",
            "Epoch 4/50\n",
            "179/179 [==============================] - 17s 94ms/step - loss: 6.7877 - accuracy: 0.0420\n",
            "Epoch 5/50\n",
            "179/179 [==============================] - 17s 93ms/step - loss: 6.1770 - accuracy: 0.0551\n",
            "Epoch 6/50\n",
            "179/179 [==============================] - 17s 94ms/step - loss: 5.3730 - accuracy: 0.0887\n",
            "Epoch 7/50\n",
            "179/179 [==============================] - 17s 94ms/step - loss: 4.3824 - accuracy: 0.1552\n",
            "Epoch 8/50\n",
            "179/179 [==============================] - 17s 95ms/step - loss: 3.3818 - accuracy: 0.2807\n",
            "Epoch 9/50\n",
            "179/179 [==============================] - 17s 94ms/step - loss: 2.4789 - accuracy: 0.4446\n",
            "Epoch 10/50\n",
            "179/179 [==============================] - 17s 94ms/step - loss: 1.7734 - accuracy: 0.5928\n",
            "Epoch 11/50\n",
            "179/179 [==============================] - 17s 93ms/step - loss: 1.2971 - accuracy: 0.7027\n",
            "Epoch 12/50\n",
            "179/179 [==============================] - 17s 93ms/step - loss: 0.9859 - accuracy: 0.7731\n",
            "Epoch 13/50\n",
            "179/179 [==============================] - 17s 93ms/step - loss: 0.7739 - accuracy: 0.8259\n",
            "Epoch 14/50\n",
            "179/179 [==============================] - 18s 98ms/step - loss: 0.6461 - accuracy: 0.8535\n",
            "Epoch 15/50\n",
            "179/179 [==============================] - 17s 93ms/step - loss: 0.5454 - accuracy: 0.8756\n",
            "Epoch 16/50\n",
            "179/179 [==============================] - 17s 93ms/step - loss: 0.4940 - accuracy: 0.8819\n",
            "Epoch 17/50\n",
            "179/179 [==============================] - 17s 92ms/step - loss: 0.4406 - accuracy: 0.8938\n",
            "Epoch 18/50\n",
            "179/179 [==============================] - 17s 93ms/step - loss: 0.4147 - accuracy: 0.8947\n",
            "Epoch 19/50\n",
            "179/179 [==============================] - 17s 92ms/step - loss: 0.3916 - accuracy: 0.8971\n",
            "Epoch 20/50\n",
            "179/179 [==============================] - 17s 93ms/step - loss: 0.3804 - accuracy: 0.8968\n",
            "Epoch 21/50\n",
            "179/179 [==============================] - 17s 94ms/step - loss: 0.3765 - accuracy: 0.8987\n",
            "Epoch 22/50\n",
            "179/179 [==============================] - 17s 94ms/step - loss: 0.3703 - accuracy: 0.8971\n",
            "Epoch 23/50\n",
            "179/179 [==============================] - 17s 94ms/step - loss: 0.3623 - accuracy: 0.8969\n",
            "Epoch 24/50\n",
            "179/179 [==============================] - 17s 94ms/step - loss: 0.3625 - accuracy: 0.8966\n",
            "Epoch 25/50\n",
            "179/179 [==============================] - 18s 99ms/step - loss: 0.3511 - accuracy: 0.8969\n",
            "Epoch 26/50\n",
            "179/179 [==============================] - 17s 94ms/step - loss: 0.3594 - accuracy: 0.8945\n",
            "Epoch 27/50\n",
            "179/179 [==============================] - 17s 93ms/step - loss: 0.3634 - accuracy: 0.8940\n",
            "Epoch 28/50\n",
            "179/179 [==============================] - 17s 93ms/step - loss: 0.3768 - accuracy: 0.8919\n",
            "Epoch 29/50\n",
            "179/179 [==============================] - 17s 95ms/step - loss: 0.3800 - accuracy: 0.8898\n",
            "Epoch 30/50\n",
            "179/179 [==============================] - 17s 94ms/step - loss: 0.3772 - accuracy: 0.8889\n",
            "Epoch 31/50\n",
            "179/179 [==============================] - 17s 94ms/step - loss: 0.3727 - accuracy: 0.8903\n",
            "Epoch 32/50\n",
            "179/179 [==============================] - 17s 93ms/step - loss: 0.3452 - accuracy: 0.8955\n",
            "Epoch 33/50\n",
            "179/179 [==============================] - 17s 93ms/step - loss: 0.3353 - accuracy: 0.8938\n",
            "Epoch 34/50\n",
            "179/179 [==============================] - 17s 93ms/step - loss: 0.3199 - accuracy: 0.8973\n",
            "Epoch 35/50\n",
            "179/179 [==============================] - 17s 94ms/step - loss: 0.3241 - accuracy: 0.8962\n",
            "Epoch 36/50\n",
            "179/179 [==============================] - 17s 94ms/step - loss: 0.3154 - accuracy: 0.8973\n",
            "Epoch 37/50\n",
            "179/179 [==============================] - 17s 94ms/step - loss: 0.3097 - accuracy: 0.8971\n",
            "Epoch 38/50\n",
            "179/179 [==============================] - 17s 93ms/step - loss: 0.3100 - accuracy: 0.8964\n",
            "Epoch 39/50\n",
            "179/179 [==============================] - 17s 93ms/step - loss: 0.3028 - accuracy: 0.8994\n",
            "Epoch 40/50\n",
            "179/179 [==============================] - 17s 94ms/step - loss: 0.3006 - accuracy: 0.8978\n",
            "Epoch 41/50\n",
            "179/179 [==============================] - 17s 95ms/step - loss: 0.3027 - accuracy: 0.8992\n",
            "Epoch 42/50\n",
            "179/179 [==============================] - 17s 95ms/step - loss: 0.3042 - accuracy: 0.8975\n",
            "Epoch 43/50\n",
            "179/179 [==============================] - 17s 93ms/step - loss: 0.3006 - accuracy: 0.8996\n",
            "Epoch 44/50\n",
            "179/179 [==============================] - 17s 94ms/step - loss: 0.3034 - accuracy: 0.8954\n",
            "Epoch 45/50\n",
            "179/179 [==============================] - 17s 94ms/step - loss: 0.3092 - accuracy: 0.8959\n",
            "Epoch 46/50\n",
            "179/179 [==============================] - 17s 94ms/step - loss: 0.3531 - accuracy: 0.8840\n",
            "Epoch 47/50\n",
            "179/179 [==============================] - 17s 94ms/step - loss: 0.4061 - accuracy: 0.8707\n",
            "Epoch 48/50\n",
            "179/179 [==============================] - 17s 94ms/step - loss: 0.3739 - accuracy: 0.8831\n",
            "Epoch 49/50\n",
            "179/179 [==============================] - 17s 94ms/step - loss: 0.3289 - accuracy: 0.8908\n",
            "Epoch 50/50\n",
            "179/179 [==============================] - 17s 93ms/step - loss: 0.3018 - accuracy: 0.8962\n"
          ]
        }
      ]
    },
    {
      "cell_type": "code",
      "source": [
        "# Take a look at the training curves of your model\n",
        "\n",
        "acc = history.history['accuracy']\n",
        "loss = history.history['loss']\n",
        "\n",
        "epochs = range(len(acc))\n",
        "\n",
        "plt.plot(epochs, acc, 'b', label='Training accuracy')\n",
        "plt.title('Training accuracy')\n",
        "\n",
        "plt.figure()\n",
        "\n",
        "plt.plot(epochs, loss, 'b', label='Training Loss')\n",
        "plt.title('Training loss')\n",
        "plt.legend()\n",
        "\n",
        "plt.show()"
      ],
      "metadata": {
        "colab": {
          "base_uri": "https://localhost:8080/",
          "height": 545
        },
        "id": "QxaWweabllJo",
        "outputId": "dc6b0a1e-8ffd-46a1-f725-d56274c6588f"
      },
      "execution_count": 55,
      "outputs": [
        {
          "output_type": "display_data",
          "data": {
            "text/plain": [
              "<Figure size 432x288 with 1 Axes>"
            ],
            "image/png": "[encoded data removed]"
          },
          "metadata": {
            "needs_background": "light"
          }
        },
        {
          "output_type": "display_data",
          "data": {
            "text/plain": [
              "<Figure size 432x288 with 1 Axes>"
            ],
            "image/png": "[encoded data removed]"
          },
          "metadata": {
            "needs_background": "light"
          }
        }
      ]
    },
    {
      "cell_type": "code",
      "source": [
        "def download_history():\n",
        "  import pickle\n",
        "  from google.colab import files\n",
        "\n",
        "  with open('history.pkl', 'wb') as f:\n",
        "    pickle.dump(history.history, f)\n",
        "\n",
        "  files.download('history.pkl')\n",
        "\n",
        "download_history()"
      ],
      "metadata": {
        "id": "sw8uslCFllR0"
      },
      "execution_count": null,
      "outputs": []
    },
    {
      "cell_type": "code",
      "source": [
        "# Define seed text\n",
        "seed_text = \"Al beni terkine, al ey kahraman, Gidelim, mahmuzla atı, yâre sür\"\n",
        "\n",
        "# Define total words to predict\n",
        "next_words = 50\n",
        "\n",
        "# Loop until desired length is reached\n",
        "for _ in range(next_words):\n",
        "\n",
        "\t# Convert the seed text to a token sequence\n",
        "  token_list = tokenizer.texts_to_sequences([seed_text])[0]\n",
        "\n",
        "\t# Pad the sequence\n",
        "  token_list = pad_sequences([token_list], maxlen=max_sequence_len-1, padding='pre')\n",
        "\t\n",
        "\t# Feed to the model and get the probabilities for each index\n",
        "  probabilities = model.predict(token_list)\n",
        "\n",
        "  # Pick a random number from [1,2,3]\n",
        "  choice = np.random.choice([1,2,3])\n",
        "\t\n",
        "  # Sort the probabilities in ascending order \n",
        "  # and get the random choice from the end of the array\n",
        "  predicted = np.argsort(probabilities)[0][-choice]\n",
        "\n",
        "\t# Ignore if index is 0 because that is just the padding.\n",
        "  if predicted != 0:\n",
        "\t\t\n",
        "\t\t# Look up the word associated with the index. \n",
        "\t  output_word = tokenizer.index_word[predicted]\n",
        "\n",
        "\t\t# Combine with the seed text\n",
        "\t  seed_text += \" \" + output_word\n",
        "\n",
        "# Print the result\t\n",
        "print(seed_text)"
      ],
      "metadata": {
        "colab": {
          "base_uri": "https://localhost:8080/"
        },
        "id": "IU2EKLYGllYR",
        "outputId": "97767d8a-f394-4129-c185-1ed08fb6932e"
      },
      "execution_count": 79,
      "outputs": [
        {
          "output_type": "stream",
          "name": "stdout",
          "text": [
            "Al beni terkine, al ey kahraman, Gidelim, mahmuzla atı, yâre sür beni kan bunaldım ağlayalım gergin güneşler azap emeli sıkılsın var dudaklarda işler eremezsin hazan ağarıyor bağlar eremezsin eremezsin mest toprak yerlerde hendese kebâp mest değer gerek yollar şenlikler ötelere efsâneler bir çözülüyor bir ilerde güneşler haz asırlık acısı güneşlerin çağları kol gezen güneşler sular güneşler kimler dinler felekler imiş çağları\n"
          ]
        }
      ]
    },
    {
      "cell_type": "code",
      "source": [],
      "metadata": {
        "id": "egrH3TdM3AZj"
      },
      "execution_count": null,
      "outputs": []
    }
  ],
  "metadata": {
    "colab": {
      "collapsed_sections": [],
      "name": "Welcome To Colaboratory",
      "toc_visible": true,
      "provenance": [],
      "include_colab_link": true
    },
    "kernelspec": {
      "display_name": "Python 3",
      "name": "python3"
    }
  },
  "nbformat": 4,
  "nbformat_minor": 0
}